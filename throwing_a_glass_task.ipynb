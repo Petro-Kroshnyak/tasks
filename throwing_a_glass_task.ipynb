{
 "cells": [
  {
   "cell_type": "markdown",
   "id": "422089b3",
   "metadata": {},
   "source": [
    "## Input values"
   ]
  },
  {
   "cell_type": "code",
   "execution_count": 47,
   "id": "64112f37",
   "metadata": {},
   "outputs": [],
   "source": [
    "glass = 2\n",
    "floor = 10"
   ]
  },
  {
   "cell_type": "code",
   "execution_count": 48,
   "id": "c830801b",
   "metadata": {},
   "outputs": [
    {
     "name": "stdout",
     "output_type": "stream",
     "text": [
      "For  2  glass and  10 floors needs  4  throws.\n"
     ]
    }
   ],
   "source": [
    "if glass == 1:\n",
    "    print(\"For \",glass,\" glass and \", floor, \"floors needs \",floor,\" throws.\")\n",
    "else:\n",
    "    max_throw = 0\n",
    "    for target in range(1,floor + 1):\n",
    "\n",
    "        throw = 0\n",
    "        start = 0\n",
    "        end = floor\n",
    "        for i in range(2, glass):\n",
    "            throw+=1\n",
    "            check = end - ((end - start) // 2)\n",
    "\n",
    "            if check > target:\n",
    "                end = check\n",
    "\n",
    "            else:\n",
    "                start = check\n",
    "\n",
    "        len = end - start\n",
    "\n",
    "        sum= 0\n",
    "        n = 0\n",
    "        while sum < len:\n",
    "            n+=1\n",
    "            sum+=n\n",
    "\n",
    "        for i in range(n, 0, -1):\n",
    "            throw+=1\n",
    "            if start + i < target:\n",
    "                start += i\n",
    "            else:\n",
    "                end = start + i\n",
    "                break\n",
    "        \n",
    "        for i in range(1, n):\n",
    "            if start + 1 == end:\n",
    "                break\n",
    "            throw+=1\n",
    "            \n",
    "            if start + i >= target:\n",
    "                end = start + i\n",
    "                break\n",
    "            if start + i == end-1:\n",
    "                break\n",
    "\n",
    "        if throw > max_throw:\n",
    "            max_throw = throw\n",
    "\n",
    "    print(\"For \",glass,\" glass and \", floor, \"floors needs \",max_throw,\" throws.\")"
   ]
  }
 ],
 "metadata": {
  "kernelspec": {
   "display_name": "Python 3",
   "language": "python",
   "name": "python3"
  },
  "language_info": {
   "codemirror_mode": {
    "name": "ipython",
    "version": 3
   },
   "file_extension": ".py",
   "mimetype": "text/x-python",
   "name": "python",
   "nbconvert_exporter": "python",
   "pygments_lexer": "ipython3",
   "version": "3.9.13"
  },
  "vscode": {
   "interpreter": {
    "hash": "10af043e2342891c5f1742e69116161093e00c98534cf0f9b4fe11a2068170b3"
   }
  }
 },
 "nbformat": 4,
 "nbformat_minor": 5
}
