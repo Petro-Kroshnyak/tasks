{
 "cells": [
  {
   "cell_type": "markdown",
   "id": "422089b3",
   "metadata": {},
   "source": [
    "## Input values"
   ]
  },
  {
   "cell_type": "code",
   "execution_count": 46,
   "id": "64112f37",
   "metadata": {},
   "outputs": [
    {
     "name": "stdout",
     "output_type": "stream",
     "text": [
      "Number of glass: 5\n",
      "Number of floor: 100\n",
      "Target flor: 2\n"
     ]
    }
   ],
   "source": [
    "glass = int(input(\"Number of glass: \"))\n",
    "floor = int(input(\"Number of floor: \"))\n",
    "target = int(input(\"Target flor: \"))"
   ]
  },
  {
   "cell_type": "markdown",
   "id": "dd3eeed6",
   "metadata": {},
   "source": [
    "## get a step that indicates through which interval of floors to throw the first glass"
   ]
  },
  {
   "cell_type": "code",
   "execution_count": 47,
   "id": "0aad30ba",
   "metadata": {},
   "outputs": [
    {
     "data": {
      "text/plain": [
       "16"
      ]
     },
     "execution_count": 47,
     "metadata": {},
     "output_type": "execute_result"
    }
   ],
   "source": [
    "step = 2**(glass - 1)\n",
    "step"
   ]
  },
  {
   "cell_type": "code",
   "execution_count": 48,
   "id": "44056701",
   "metadata": {},
   "outputs": [],
   "source": [
    "l_t_floor = 0 # last throw floor\n",
    "s_floor = 0 # highest survive floor\n",
    "n_s_floor = floor + 1 # smallest not survive floor\n",
    "n_throws = 0 # number of throws"
   ]
  },
  {
   "cell_type": "markdown",
   "id": "1f5d670e",
   "metadata": {},
   "source": [
    "## throw first glass til it break"
   ]
  },
  {
   "cell_type": "code",
   "execution_count": 49,
   "id": "1c432f11",
   "metadata": {},
   "outputs": [
    {
     "name": "stdout",
     "output_type": "stream",
     "text": [
      "0\n",
      "16\n",
      "1\n"
     ]
    }
   ],
   "source": [
    "for i in range(1,(floor//step+2)):\n",
    "    n_throws += 1\n",
    "    if (i*step <= floor):\n",
    "        l_t_floor = i*step\n",
    "    else:\n",
    "        l_t_floor = floor\n",
    "    if (l_t_floor <= target):\n",
    "        s_floor = l_t_floor\n",
    "    else:\n",
    "        n_s_floor = l_t_floor\n",
    "        break\n",
    "\n",
    "print(s_floor)\n",
    "print(n_s_floor)\n",
    "print(n_throws)"
   ]
  },
  {
   "cell_type": "markdown",
   "id": "e4ecbc03",
   "metadata": {},
   "source": [
    "## throw next glass"
   ]
  },
  {
   "cell_type": "code",
   "execution_count": 50,
   "id": "3914fc83",
   "metadata": {},
   "outputs": [
    {
     "name": "stdout",
     "output_type": "stream",
     "text": [
      "2\n",
      "3\n",
      "5\n"
     ]
    }
   ],
   "source": [
    "while (s_floor != n_s_floor-1):\n",
    "    n_throws += 1\n",
    "    l_t_floor = s_floor + (n_s_floor - s_floor)//2\n",
    "    if (l_t_floor <= target):\n",
    "        s_floor = l_t_floor\n",
    "    else:\n",
    "        n_s_floor = l_t_floor\n",
    "        \n",
    "        \n",
    "print(s_floor)\n",
    "print(n_s_floor)\n",
    "print(n_throws)"
   ]
  },
  {
   "cell_type": "code",
   "execution_count": null,
   "id": "c9dda4be",
   "metadata": {},
   "outputs": [],
   "source": []
  }
 ],
 "metadata": {
  "kernelspec": {
   "display_name": "Python 3 (ipykernel)",
   "language": "python",
   "name": "python3"
  },
  "language_info": {
   "codemirror_mode": {
    "name": "ipython",
    "version": 3
   },
   "file_extension": ".py",
   "mimetype": "text/x-python",
   "name": "python",
   "nbconvert_exporter": "python",
   "pygments_lexer": "ipython3",
   "version": "3.9.13"
  }
 },
 "nbformat": 4,
 "nbformat_minor": 5
}
